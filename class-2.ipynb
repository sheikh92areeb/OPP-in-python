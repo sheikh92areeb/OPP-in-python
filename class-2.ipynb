{
 "cells": [
  {
   "cell_type": "markdown",
   "id": "917cd564",
   "metadata": {},
   "source": [
    "# OOP in Python\n",
    "\n",
    "### Class and Instance"
   ]
  },
  {
   "cell_type": "code",
   "execution_count": 3,
   "id": "469b19d4",
   "metadata": {},
   "outputs": [
    {
     "name": "stdout",
     "output_type": "stream",
     "text": [
      "Hello, I am a person.\n"
     ]
    }
   ],
   "source": [
    "class Person:\n",
    "    def speak(self):\n",
    "        print(\"Hello, I am a person.\")\n",
    "\n",
    "person1 = Person()        \n",
    "person1.speak()"
   ]
  },
  {
   "cell_type": "code",
   "execution_count": 4,
   "id": "7f56c9bb",
   "metadata": {},
   "outputs": [
    {
     "name": "stdout",
     "output_type": "stream",
     "text": [
      "Hello, I am Ali.\n"
     ]
    }
   ],
   "source": [
    "class Person:\n",
    "    def __init__(self, name): # magic/ dunder function\n",
    "        self.name = name\n",
    "\n",
    "    def speak(self):\n",
    "        print(f\"Hello, I am {self.name}.\")\n",
    "\n",
    "person1 = Person(\"Ali\")        \n",
    "person1.speak()"
   ]
  },
  {
   "cell_type": "markdown",
   "id": "838f081d",
   "metadata": {},
   "source": [
    "# 1- Encapsulation\n",
    "\n",
    "#### Access Modifire (Public, Private and protected)"
   ]
  },
  {
   "cell_type": "code",
   "execution_count": null,
   "id": "db1900eb",
   "metadata": {},
   "outputs": [
    {
     "name": "stdout",
     "output_type": "stream",
     "text": [
      "12345\n",
      "1\n",
      "54321\n"
     ]
    }
   ],
   "source": [
    "class Student:\n",
    "    def __init__(self, name, student_id, roll_number):\n",
    "        self.name = name # public attribute\n",
    "        self.__student_id = student_id # private attribute\n",
    "        self.__roll_number = roll_number # private attribute\n",
    "\n",
    "    # Gettet/ Setter method\n",
    "    def get_student_id(self):\n",
    "        return self.__student_id\n",
    "\n",
    "    def get_roll_number(self):\n",
    "        return self.__roll_number\n",
    "\n",
    "    def set_student_id(self, student_id):\n",
    "        self.__student_id = student_id\n",
    "\n",
    "student1 = Student(\"Ali\", 12345, 1)\n",
    "print(student1.name)\n",
    "print(student1.__roll_number)\n",
    "print(student1.get_student_id())  \n",
    "print(student1.get_roll_number())  \n",
    "\n",
    "student1.set_student_id(54321)\n",
    "print(student1.get_student_id()) "
   ]
  },
  {
   "cell_type": "markdown",
   "id": "cea1860b",
   "metadata": {},
   "source": [
    "# 2- Inheritance"
   ]
  },
  {
   "cell_type": "code",
   "execution_count": 10,
   "id": "15b4db45",
   "metadata": {},
   "outputs": [
    {
     "data": {
      "text/plain": [
       "25"
      ]
     },
     "execution_count": 10,
     "metadata": {},
     "output_type": "execute_result"
    }
   ],
   "source": [
    "class Human:\n",
    "    def __init__(self, name, age):\n",
    "        self.name = name # public \n",
    "        self._age = age # protected\n",
    "\n",
    "    def speak(self):\n",
    "        print(f\"Hello, I am {self.name}.\")\n",
    "\n",
    "class Male(Human):\n",
    "    def __init__(self, name, age):\n",
    "        super().__init__(name, age) # call the constructor of the parent class\n",
    "\n",
    "    def get_age(self):\n",
    "        return self._age    \n",
    "    \n",
    "male1 = Male(\"Ali\", 25)\n",
    "male1.get_age()    "
   ]
  }
 ],
 "metadata": {
  "kernelspec": {
   "display_name": "Python 3",
   "language": "python",
   "name": "python3"
  },
  "language_info": {
   "codemirror_mode": {
    "name": "ipython",
    "version": 3
   },
   "file_extension": ".py",
   "mimetype": "text/x-python",
   "name": "python",
   "nbconvert_exporter": "python",
   "pygments_lexer": "ipython3",
   "version": "3.13.1"
  }
 },
 "nbformat": 4,
 "nbformat_minor": 5
}
