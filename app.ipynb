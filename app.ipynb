{
 "cells": [
  {
   "cell_type": "code",
   "execution_count": 6,
   "id": "43c156b1",
   "metadata": {},
   "outputs": [
    {
     "name": "stdout",
     "output_type": "stream",
     "text": [
      "9\n",
      "45\n"
     ]
    }
   ],
   "source": [
    "print(4+5)\n",
    "print(\"4\"+\"5\")"
   ]
  },
  {
   "cell_type": "code",
   "execution_count": null,
   "id": "edd6aedf",
   "metadata": {},
   "outputs": [
    {
     "name": "stdout",
     "output_type": "stream",
     "text": [
      "Areeb\n",
      "20\n"
     ]
    }
   ],
   "source": [
    "# static class\n",
    "class Person:\n",
    "    name= \"ahmed\"\n",
    "    age = 20\n",
    "\n",
    "obj = Person() \n",
    "obj.name = \"Areeb\"\n",
    "\n",
    "print(obj.name)\n",
    "print(obj.age)"
   ]
  },
  {
   "cell_type": "code",
   "execution_count": null,
   "id": "a577c577",
   "metadata": {},
   "outputs": [
    {
     "name": "stdout",
     "output_type": "stream",
     "text": [
      "Ali\n",
      "20\n"
     ]
    }
   ],
   "source": [
    "# magic function / dunder function\n",
    "# dynamic class\n",
    "class Human:\n",
    "    def __init__(self,name,age):\n",
    "        self.name = name\n",
    "        self.age = age\n",
    "\n",
    "ali = Human(\"Ali\", 25)\n",
    "ahmed = Human(\"Ahmed\", 20)\n",
    "\n",
    "print(ali.name)\n",
    "print(ahmed.age)"
   ]
  },
  {
   "cell_type": "markdown",
   "id": "2f49a68e",
   "metadata": {},
   "source": [
    "# Encapsulations"
   ]
  },
  {
   "cell_type": "code",
   "execution_count": 1,
   "id": "0c7d895d",
   "metadata": {},
   "outputs": [
    {
     "name": "stdout",
     "output_type": "stream",
     "text": [
      "21\n",
      "Hammad\n",
      "Name:  Hammad\n",
      "Age:  21\n"
     ]
    }
   ],
   "source": [
    "# Public Access Modifiers\n",
    "\n",
    "class Student:\n",
    "    # constructor is defined\n",
    "    def __init__(self, age, name):\n",
    "        self.age = age   # public variable\n",
    "        self.name = name # public variable\n",
    "\n",
    "    def display(self):\n",
    "        print(\"Name: \", self.name)\n",
    "        print(\"Age: \", self.age)    \n",
    "\n",
    "obj = Student(21,\"Hammad\")\n",
    "print(obj.age)\n",
    "print(obj.name)\n",
    "obj.display()"
   ]
  },
  {
   "cell_type": "code",
   "execution_count": 2,
   "id": "1aa7bcc4",
   "metadata": {},
   "outputs": [
    {
     "name": "stdout",
     "output_type": "stream",
     "text": [
      "Ali\n",
      "Ali12\n",
      "Ali\n",
      "Ali12\n"
     ]
    }
   ],
   "source": [
    "# Protected Access Modifiers\n",
    "class Student:\n",
    "    def __init__(self):\n",
    "        self._name = \"Ali\"\n",
    "\n",
    "    def _funName(self): # protected method\n",
    "        return \"Ali12\"\n",
    "\n",
    "class Subject(Student): #inherited class\n",
    "    pass\n",
    "\n",
    "obj = Student()\n",
    "obj1 = Subject()\n",
    "\n",
    "# calling by object of Student class\n",
    "print(obj._name)      \n",
    "print(obj._funName())     \n",
    "# calling by object of Subject class\n",
    "print(obj1._name)    \n",
    "print(obj1._funName())"
   ]
  },
  {
   "cell_type": "code",
   "execution_count": null,
   "id": "001e008c",
   "metadata": {},
   "outputs": [],
   "source": [
    "# private access modifiers\n",
    "\n",
    "class Student: \n",
    "    def __init__(self, age, name): \n",
    "        self.__age = age # An indication of private variable\n",
    "        \n",
    "        def __funName(self):  # An indication of private function\n",
    "            self.__name = \"ali12\"\n",
    "            print(self.__name)\n",
    "\n",
    "class Subject(Student):\n",
    "    pass\n",
    "\n",
    "obj = Student(21,\"Hammad\")\n",
    "obj1 = Subject\n",
    "\n",
    "# calling by object of class Student\n",
    "print(obj._Student__age)\n",
    "print(obj.__funName())\n",
    "\n",
    "# calling by object  of class Subject\n",
    "print(obj1.__age)\n",
    "print(obj1.__funName())"
   ]
  }
 ],
 "metadata": {
  "kernelspec": {
   "display_name": "Python 3",
   "language": "python",
   "name": "python3"
  },
  "language_info": {
   "codemirror_mode": {
    "name": "ipython",
    "version": 3
   },
   "file_extension": ".py",
   "mimetype": "text/x-python",
   "name": "python",
   "nbconvert_exporter": "python",
   "pygments_lexer": "ipython3",
   "version": "3.13.1"
  }
 },
 "nbformat": 4,
 "nbformat_minor": 5
}
