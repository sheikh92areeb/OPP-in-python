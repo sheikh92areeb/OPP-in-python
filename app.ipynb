{
 "cells": [
  {
   "cell_type": "code",
   "execution_count": 6,
   "id": "43c156b1",
   "metadata": {},
   "outputs": [
    {
     "name": "stdout",
     "output_type": "stream",
     "text": [
      "9\n",
      "45\n"
     ]
    }
   ],
   "source": [
    "print(4+5)\n",
    "print(\"4\"+\"5\")"
   ]
  },
  {
   "cell_type": "code",
   "execution_count": null,
   "id": "edd6aedf",
   "metadata": {},
   "outputs": [
    {
     "name": "stdout",
     "output_type": "stream",
     "text": [
      "Areeb\n",
      "20\n"
     ]
    }
   ],
   "source": [
    "# static class\n",
    "class Person:\n",
    "    name= \"ahmed\"\n",
    "    age = 20\n",
    "\n",
    "obj = Person() \n",
    "obj.name = \"Areeb\"\n",
    "\n",
    "print(obj.name)\n",
    "print(obj.age)"
   ]
  },
  {
   "cell_type": "code",
   "execution_count": null,
   "id": "a577c577",
   "metadata": {},
   "outputs": [
    {
     "name": "stdout",
     "output_type": "stream",
     "text": [
      "Ali\n",
      "20\n"
     ]
    }
   ],
   "source": [
    "# magic function / dunder function\n",
    "# dynamic class\n",
    "class Human:\n",
    "    def __init__(self,name,age):\n",
    "        self.name = name\n",
    "        self.age = age\n",
    "\n",
    "ali = Human(\"Ali\", 25)\n",
    "ahmed = Human(\"Ahmed\", 20)\n",
    "\n",
    "print(ali.name)\n",
    "print(ahmed.age)"
   ]
  },
  {
   "cell_type": "code",
   "execution_count": 11,
   "id": "0c7d895d",
   "metadata": {},
   "outputs": [
    {
     "name": "stdout",
     "output_type": "stream",
     "text": [
      "21\n",
      "Hammad\n"
     ]
    }
   ],
   "source": [
    "class Student:\n",
    "    # constructor is defined\n",
    "    def __init__(self, age, name):\n",
    "        self.age = age   # public variable\n",
    "        self.name = name # public variable\n",
    "\n",
    "obj = Student(21,\"Hammad\")\n",
    "print(obj.age)\n",
    "print(obj.name)"
   ]
  }
 ],
 "metadata": {
  "kernelspec": {
   "display_name": "Python 3",
   "language": "python",
   "name": "python3"
  },
  "language_info": {
   "codemirror_mode": {
    "name": "ipython",
    "version": 3
   },
   "file_extension": ".py",
   "mimetype": "text/x-python",
   "name": "python",
   "nbconvert_exporter": "python",
   "pygments_lexer": "ipython3",
   "version": "3.13.1"
  }
 },
 "nbformat": 4,
 "nbformat_minor": 5
}
